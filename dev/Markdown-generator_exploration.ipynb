{
 "cells": [
  {
   "cell_type": "markdown",
   "metadata": {},
   "source": [
    "# Markdown Generator Exploration"
   ]
  },
  {
   "cell_type": "markdown",
   "metadata": {},
   "source": [
    "## Input"
   ]
  },
  {
   "cell_type": "code",
   "execution_count": 3,
   "metadata": {},
   "outputs": [],
   "source": [
    "import markdown_generator as mg\n",
    "\n",
    "with open('example.md', 'w') as f:\n",
    "    writer = mg.Writer(f)\n",
    "    \n",
    "    writer.write_heading('{}'.format(\"Article title\"))\n",
    "    writer.writeline()\n",
    "    \n",
    "    image = mg.Image('https://cdn-images-1.medium.com/max/1600/1*m4cnTYJWM7Rmpsju8dSHmQ.jpeg',\n",
    "                         'my alt text')\n",
    "    \n",
    "    writer.writeline(image)\n",
    "    \n",
    "    writer.writeline('Summary line 1')\n",
    "    writer.writeline('Summary line 2')\n",
    "    writer.writeline('Summary line 3')\n",
    "    writer.writeline()\n",
    "    \n",
    "    link = mg.link('https://reddit.com', 'Full text')\n",
    "    writer.writeline(link)\n",
    "    "
   ]
  },
  {
   "cell_type": "markdown",
   "metadata": {},
   "source": [
    "## Output\n",
    "`example.md`"
   ]
  },
  {
   "cell_type": "markdown",
   "metadata": {},
   "source": [
    "# Article title\n",
    "![my alt text](https://cdn-images-1.medium.com/max/1600/1*m4cnTYJWM7Rmpsju8dSHmQ.jpeg)\n",
    "Summary line 1\n",
    "Summary line 2\n",
    "Summary line 3\n",
    "\n",
    "[Full text](https://reddit.com)"
   ]
  },
  {
   "cell_type": "code",
   "execution_count": null,
   "metadata": {},
   "outputs": [],
   "source": []
  }
 ],
 "metadata": {
  "kernelspec": {
   "display_name": "Python [conda env:pawel]",
   "language": "python",
   "name": "conda-env-pawel-py"
  },
  "language_info": {
   "codemirror_mode": {
    "name": "ipython",
    "version": 3
   },
   "file_extension": ".py",
   "mimetype": "text/x-python",
   "name": "python",
   "nbconvert_exporter": "python",
   "pygments_lexer": "ipython3",
   "version": "3.6.6"
  }
 },
 "nbformat": 4,
 "nbformat_minor": 2
}
