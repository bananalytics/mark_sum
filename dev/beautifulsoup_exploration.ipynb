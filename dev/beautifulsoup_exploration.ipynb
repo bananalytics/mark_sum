{
 "cells": [
  {
   "cell_type": "markdown",
   "metadata": {},
   "source": [
    "# Playing with Beautiful Soup\n",
    "* Author: Filip Wodnicki\n",
    "* Date: August 2018\n",
    "* Language: Python 3.6\n",
    "* Objective: Use Beautiful soup to get images from the webpage"
   ]
  },
  {
   "cell_type": "markdown",
   "metadata": {},
   "source": [
    "## Step 1: Import"
   ]
  },
  {
   "cell_type": "code",
   "execution_count": 3,
   "metadata": {},
   "outputs": [],
   "source": [
    "from bs4 import BeautifulSoup\n",
    "import requests"
   ]
  },
  {
   "cell_type": "code",
   "execution_count": 4,
   "metadata": {},
   "outputs": [],
   "source": [
    "# url = 'https://iot.eetimes.com/renesas-s3a1-mcu-group-offers-improved-security-connectivity-for-modern-iot-solutions/'\n",
    "url ='https://hackernoon.com/install-python-gdal-using-conda-on-mac-8f320ca36d90'\n",
    "\n",
    "r = requests.get(url)\n",
    "soup = BeautifulSoup(r.text, features=\"lxml\")"
   ]
  },
  {
   "cell_type": "markdown",
   "metadata": {},
   "source": [
    "## Step 2: Get all Images w/ width & height"
   ]
  },
  {
   "cell_type": "code",
   "execution_count": 5,
   "metadata": {},
   "outputs": [
    {
     "name": "stdout",
     "output_type": "stream",
     "text": [
      "267 36\n"
     ]
    }
   ],
   "source": [
    "images = []\n",
    "for pic in soup.find_all('img', width=True, height=True):\n",
    "    images.append(pic.get('src'))\n",
    "    print(pic['width'], pic['height']) "
   ]
  },
  {
   "cell_type": "code",
   "execution_count": 6,
   "metadata": {},
   "outputs": [
    {
     "data": {
      "text/plain": [
       "['https://cdn-images-1.medium.com/letterbox/534/72/50/50/1*1rGa2Bo9HvfRLuZA2N8qLA.png?source=logoAvatar-lo_1Xn52FhAbdlV---3a8144eabfe3']"
      ]
     },
     "execution_count": 6,
     "metadata": {},
     "output_type": "execute_result"
    }
   ],
   "source": [
    "images"
   ]
  },
  {
   "cell_type": "markdown",
   "metadata": {},
   "source": [
    "Problem: Not all images have width and height\n",
    "\n",
    "## Step 3: Get all images period."
   ]
  },
  {
   "cell_type": "code",
   "execution_count": 7,
   "metadata": {},
   "outputs": [],
   "source": [
    "images = []\n",
    "for pic in soup.find_all('img'):\n",
    "    images.append(pic.get('src'))"
   ]
  },
  {
   "cell_type": "code",
   "execution_count": 8,
   "metadata": {},
   "outputs": [
    {
     "data": {
      "text/plain": [
       "['https://cdn-images-1.medium.com/letterbox/534/72/50/50/1*1rGa2Bo9HvfRLuZA2N8qLA.png?source=logoAvatar-lo_1Xn52FhAbdlV---3a8144eabfe3',\n",
       " 'https://cdn-images-1.medium.com/fit/c/120/120/1*LugIfotGMh5i1qjxuJiRzQ.jpeg',\n",
       " 'https://cdn-images-1.medium.com/max/1600/1*m4cnTYJWM7Rmpsju8dSHmQ.jpeg',\n",
       " 'https://cdn-images-1.medium.com/max/1600/1*3dt1a4jg7DzEti_D3VmGxQ.png',\n",
       " 'https://cdn-images-1.medium.com/max/1600/1*OpxJXlkjvcCuhkYYlPwTjA.png',\n",
       " 'https://cdn-images-1.medium.com/max/1600/1*I765vVaynvCDsiPEKBuUfQ.png',\n",
       " 'https://cdn-images-1.medium.com/max/1600/1*qcumvBkuOKXFu83evbimKQ.png',\n",
       " 'https://cdn-images-1.medium.com/max/1600/1*B4pr9PAX7ik1s1y5lbdrxA.png',\n",
       " 'https://cdn-images-1.medium.com/max/1600/1*NM-d0y5B_plTUDv9E4RBvQ.png',\n",
       " 'https://cdn-images-1.medium.com/max/1600/1*j-qfAUL54oD27GS_quTRmg.png',\n",
       " 'https://cdn-images-1.medium.com/max/1600/1*BPGCDr9_C5ici0NVI2QESw.png',\n",
       " 'https://cdn-images-1.medium.com/max/1600/1*D5Oy7phUlCfnfo2gnyi2Aw.png',\n",
       " 'https://cdn-images-1.medium.com/max/1600/1*id-RP3Gj92mlkKkQgXKJGg.png',\n",
       " 'https://cdn-images-1.medium.com/max/1600/1*PZjwR1Nbluff5IMI6Y1T6g@2x.png',\n",
       " 'https://cdn-images-1.medium.com/fit/c/120/120/1*LugIfotGMh5i1qjxuJiRzQ.jpeg',\n",
       " 'https://cdn-images-1.medium.com/fit/c/120/120/1*76XiKOa05Yya6_CdYX8pVg.jpeg',\n",
       " 'https://cdn-images-1.medium.com/fit/c/80/80/1*76XiKOa05Yya6_CdYX8pVg.jpeg']"
      ]
     },
     "execution_count": 8,
     "metadata": {},
     "output_type": "execute_result"
    }
   ],
   "source": [
    "images"
   ]
  },
  {
   "cell_type": "markdown",
   "metadata": {},
   "source": [
    "Problem: Soooo many images.\n",
    "    \n",
    "## Step 4: Get first image after the h1 tag (should be the featured image)\n",
    "\n",
    "source: https://stackoverflow.com/questions/36754686/beautiful-soup-get-picture-size-from-html"
   ]
  },
  {
   "cell_type": "markdown",
   "metadata": {},
   "source": [
    "# Article title\n",
    "\n",
    "![my alt text](https://cdn-images-1.medium.com/max/1600/1*m4cnTYJWM7Rmpsju8dSHmQ.jpeg)\n",
    "Summary line 1\n",
    "Summary line 2\n",
    "Summary line 3\n",
    "\n",
    "[https://reddit.com](Full text)"
   ]
  },
  {
   "cell_type": "markdown",
   "metadata": {},
   "source": [
    "## Step 5: Get the largest image\n"
   ]
  },
  {
   "cell_type": "code",
   "execution_count": 11,
   "metadata": {},
   "outputs": [],
   "source": [
    "def get_largest_image(soup):\n",
    "\timages = []\n",
    "\tsizes = []\n",
    "\tfor img in soup.findAll('img', width=True, height=True):\n",
    "\t\timages.append(img.get('src'))\n",
    "\t\tsizes.append(int(img.get('width')) * int(img.get('height')) )\n",
    "\n",
    "\tmax_size = max(sizes)\n",
    "\tmax_index = sizes.index(max_size)\n",
    "\tlargest_image = images[max_index]\n",
    "\treturn largest_image"
   ]
  },
  {
   "cell_type": "code",
   "execution_count": 12,
   "metadata": {},
   "outputs": [
    {
     "data": {
      "text/plain": [
       "'https://cdn-images-1.medium.com/letterbox/534/72/50/50/1*1rGa2Bo9HvfRLuZA2N8qLA.png?source=logoAvatar-lo_1Xn52FhAbdlV---3a8144eabfe3'"
      ]
     },
     "execution_count": 12,
     "metadata": {},
     "output_type": "execute_result"
    }
   ],
   "source": [
    "get_largest_image(soup)"
   ]
  },
  {
   "cell_type": "code",
   "execution_count": 13,
   "metadata": {},
   "outputs": [],
   "source": [
    "def get_all_img_after_h1(soup):\n",
    "\tsoup_h1 = soup.find('h1')\n",
    "\tsoup_imgs = soup_h1.find_all_next('img')\n",
    "\treturn soup_imgs"
   ]
  },
  {
   "cell_type": "code",
   "execution_count": 15,
   "metadata": {},
   "outputs": [
    {
     "data": {
      "text/plain": [
       "[<img class=\"graf-image\" data-height=\"335\" data-image-id=\"1*m4cnTYJWM7Rmpsju8dSHmQ.jpeg\" data-width=\"568\" src=\"https://cdn-images-1.medium.com/max/1600/1*m4cnTYJWM7Rmpsju8dSHmQ.jpeg\"/>,\n",
       " <img class=\"graf-image\" data-height=\"62\" data-image-id=\"1*3dt1a4jg7DzEti_D3VmGxQ.png\" data-width=\"576\" src=\"https://cdn-images-1.medium.com/max/1600/1*3dt1a4jg7DzEti_D3VmGxQ.png\"/>,\n",
       " <img class=\"graf-image\" data-action=\"zoom\" data-action-value=\"1*OpxJXlkjvcCuhkYYlPwTjA.png\" data-height=\"774\" data-image-id=\"1*OpxJXlkjvcCuhkYYlPwTjA.png\" data-width=\"1240\" src=\"https://cdn-images-1.medium.com/max/1600/1*OpxJXlkjvcCuhkYYlPwTjA.png\"/>,\n",
       " <img class=\"graf-image\" data-action=\"zoom\" data-action-value=\"1*I765vVaynvCDsiPEKBuUfQ.png\" data-height=\"336\" data-image-id=\"1*I765vVaynvCDsiPEKBuUfQ.png\" data-width=\"1244\" src=\"https://cdn-images-1.medium.com/max/1600/1*I765vVaynvCDsiPEKBuUfQ.png\"/>,\n",
       " <img class=\"graf-image\" data-height=\"330\" data-image-id=\"1*qcumvBkuOKXFu83evbimKQ.png\" data-width=\"562\" src=\"https://cdn-images-1.medium.com/max/1600/1*qcumvBkuOKXFu83evbimKQ.png\"/>,\n",
       " <img class=\"graf-image\" data-action=\"zoom\" data-action-value=\"1*B4pr9PAX7ik1s1y5lbdrxA.png\" data-height=\"510\" data-image-id=\"1*B4pr9PAX7ik1s1y5lbdrxA.png\" data-width=\"1004\" src=\"https://cdn-images-1.medium.com/max/1600/1*B4pr9PAX7ik1s1y5lbdrxA.png\"/>,\n",
       " <img class=\"graf-image\" data-action=\"zoom\" data-action-value=\"1*NM-d0y5B_plTUDv9E4RBvQ.png\" data-height=\"504\" data-image-id=\"1*NM-d0y5B_plTUDv9E4RBvQ.png\" data-width=\"970\" src=\"https://cdn-images-1.medium.com/max/1600/1*NM-d0y5B_plTUDv9E4RBvQ.png\"/>,\n",
       " <img class=\"graf-image\" data-action=\"zoom\" data-action-value=\"1*j-qfAUL54oD27GS_quTRmg.png\" data-height=\"278\" data-image-id=\"1*j-qfAUL54oD27GS_quTRmg.png\" data-width=\"1710\" src=\"https://cdn-images-1.medium.com/max/1600/1*j-qfAUL54oD27GS_quTRmg.png\"/>,\n",
       " <img class=\"graf-image\" data-action=\"zoom\" data-action-value=\"1*BPGCDr9_C5ici0NVI2QESw.png\" data-height=\"154\" data-image-id=\"1*BPGCDr9_C5ici0NVI2QESw.png\" data-width=\"1696\" src=\"https://cdn-images-1.medium.com/max/1600/1*BPGCDr9_C5ici0NVI2QESw.png\"/>,\n",
       " <img class=\"graf-image\" data-action=\"zoom\" data-action-value=\"1*D5Oy7phUlCfnfo2gnyi2Aw.png\" data-height=\"126\" data-image-id=\"1*D5Oy7phUlCfnfo2gnyi2Aw.png\" data-width=\"710\" src=\"https://cdn-images-1.medium.com/max/1600/1*D5Oy7phUlCfnfo2gnyi2Aw.png\"/>,\n",
       " <img class=\"graf-image\" data-action=\"zoom\" data-action-value=\"1*id-RP3Gj92mlkKkQgXKJGg.png\" data-height=\"428\" data-image-id=\"1*id-RP3Gj92mlkKkQgXKJGg.png\" data-width=\"1248\" src=\"https://cdn-images-1.medium.com/max/1600/1*id-RP3Gj92mlkKkQgXKJGg.png\"/>,\n",
       " <img class=\"graf-image\" data-height=\"700\" data-image-id=\"1*PZjwR1Nbluff5IMI6Y1T6g@2x.png\" data-width=\"1400\" src=\"https://cdn-images-1.medium.com/max/1600/1*PZjwR1Nbluff5IMI6Y1T6g@2x.png\"/>,\n",
       " <img alt=\"Go to the profile of Filip Wodnicki\" class=\"avatar-image avatar-image--small\" src=\"https://cdn-images-1.medium.com/fit/c/120/120/1*LugIfotGMh5i1qjxuJiRzQ.jpeg\"/>,\n",
       " <img alt=\"Hacker Noon\" class=\"avatar-image u-size60x60\" src=\"https://cdn-images-1.medium.com/fit/c/120/120/1*76XiKOa05Yya6_CdYX8pVg.jpeg\"/>,\n",
       " <img alt=\"Hacker Noon\" class=\"avatar-image avatar-image--smaller\" src=\"https://cdn-images-1.medium.com/fit/c/80/80/1*76XiKOa05Yya6_CdYX8pVg.jpeg\"/>]"
      ]
     },
     "execution_count": 15,
     "metadata": {},
     "output_type": "execute_result"
    }
   ],
   "source": [
    "get_all_img_after_h1(soup)"
   ]
  },
  {
   "cell_type": "code",
   "execution_count": null,
   "metadata": {},
   "outputs": [],
   "source": []
  }
 ],
 "metadata": {
  "kernelspec": {
   "display_name": "Python [conda env:pawel]",
   "language": "python",
   "name": "conda-env-pawel-py"
  },
  "language_info": {
   "codemirror_mode": {
    "name": "ipython",
    "version": 3
   },
   "file_extension": ".py",
   "mimetype": "text/x-python",
   "name": "python",
   "nbconvert_exporter": "python",
   "pygments_lexer": "ipython3",
   "version": "3.6.6"
  }
 },
 "nbformat": 4,
 "nbformat_minor": 2
}
