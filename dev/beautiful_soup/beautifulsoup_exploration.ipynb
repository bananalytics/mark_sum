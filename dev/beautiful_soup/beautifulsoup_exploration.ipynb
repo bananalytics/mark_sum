{
 "cells": [
  {
   "cell_type": "markdown",
   "metadata": {},
   "source": [
    "# Playing with Beautiful Soup\n",
    "* Filip Wodnicki\n",
    "* August 2018\n",
    "* Python 3.6\n",
    "\n",
    "## Step 1: Import"
   ]
  },
  {
   "cell_type": "code",
   "execution_count": 20,
   "metadata": {},
   "outputs": [],
   "source": [
    "from bs4 import BeautifulSoup\n",
    "import requests"
   ]
  },
  {
   "cell_type": "code",
   "execution_count": 21,
   "metadata": {},
   "outputs": [],
   "source": [
    "# url = 'https://iot.eetimes.com/renesas-s3a1-mcu-group-offers-improved-security-connectivity-for-modern-iot-solutions/'\n",
    "url ='https://hackernoon.com/install-python-gdal-using-conda-on-mac-8f320ca36d90'\n",
    "\n",
    "r = requests.get(url)\n",
    "soup = BeautifulSoup(r.text, features=\"lxml\")"
   ]
  },
  {
   "cell_type": "markdown",
   "metadata": {},
   "source": [
    "## Step 2: Get all Images w/ width & height"
   ]
  },
  {
   "cell_type": "code",
   "execution_count": 22,
   "metadata": {},
   "outputs": [
    {
     "name": "stdout",
     "output_type": "stream",
     "text": [
      "267 36\n"
     ]
    }
   ],
   "source": [
    "images = []\n",
    "for pic in soup.find_all('img', width=True, height=True):\n",
    "    images.append(pic.get('src'))\n",
    "    print(pic['width'], pic['height']) "
   ]
  },
  {
   "cell_type": "code",
   "execution_count": 23,
   "metadata": {},
   "outputs": [
    {
     "data": {
      "text/plain": [
       "['https://cdn-images-1.medium.com/letterbox/534/72/50/50/1*1rGa2Bo9HvfRLuZA2N8qLA.png?source=logoAvatar-lo_3QxF680qQSKA---3a8144eabfe3']"
      ]
     },
     "execution_count": 23,
     "metadata": {},
     "output_type": "execute_result"
    }
   ],
   "source": [
    "images"
   ]
  },
  {
   "cell_type": "markdown",
   "metadata": {},
   "source": [
    "Problem: Not all images have width and height\n",
    "\n",
    "## Step 3: Get all images period."
   ]
  },
  {
   "cell_type": "code",
   "execution_count": 24,
   "metadata": {},
   "outputs": [],
   "source": [
    "images = []\n",
    "for pic in soup.find_all('img'):\n",
    "    images.append(pic.get('src'))"
   ]
  },
  {
   "cell_type": "code",
   "execution_count": 25,
   "metadata": {},
   "outputs": [
    {
     "data": {
      "text/plain": [
       "['https://cdn-images-1.medium.com/letterbox/534/72/50/50/1*1rGa2Bo9HvfRLuZA2N8qLA.png?source=logoAvatar-lo_3QxF680qQSKA---3a8144eabfe3',\n",
       " 'https://cdn-images-1.medium.com/fit/c/120/120/1*LugIfotGMh5i1qjxuJiRzQ.jpeg',\n",
       " 'https://cdn-images-1.medium.com/max/1600/1*m4cnTYJWM7Rmpsju8dSHmQ.jpeg',\n",
       " 'https://cdn-images-1.medium.com/max/1600/1*3dt1a4jg7DzEti_D3VmGxQ.png',\n",
       " 'https://cdn-images-1.medium.com/max/1600/1*OpxJXlkjvcCuhkYYlPwTjA.png',\n",
       " 'https://cdn-images-1.medium.com/max/1600/1*I765vVaynvCDsiPEKBuUfQ.png',\n",
       " 'https://cdn-images-1.medium.com/max/1600/1*qcumvBkuOKXFu83evbimKQ.png',\n",
       " 'https://cdn-images-1.medium.com/max/1600/1*B4pr9PAX7ik1s1y5lbdrxA.png',\n",
       " 'https://cdn-images-1.medium.com/max/1600/1*NM-d0y5B_plTUDv9E4RBvQ.png',\n",
       " 'https://cdn-images-1.medium.com/max/1600/1*j-qfAUL54oD27GS_quTRmg.png',\n",
       " 'https://cdn-images-1.medium.com/max/1600/1*BPGCDr9_C5ici0NVI2QESw.png',\n",
       " 'https://cdn-images-1.medium.com/max/1600/1*D5Oy7phUlCfnfo2gnyi2Aw.png',\n",
       " 'https://cdn-images-1.medium.com/max/1600/1*id-RP3Gj92mlkKkQgXKJGg.png',\n",
       " 'https://cdn-images-1.medium.com/max/1600/1*PZjwR1Nbluff5IMI6Y1T6g@2x.png',\n",
       " 'https://cdn-images-1.medium.com/fit/c/120/120/1*LugIfotGMh5i1qjxuJiRzQ.jpeg',\n",
       " 'https://cdn-images-1.medium.com/fit/c/120/120/1*76XiKOa05Yya6_CdYX8pVg.jpeg',\n",
       " 'https://cdn-images-1.medium.com/fit/c/80/80/1*76XiKOa05Yya6_CdYX8pVg.jpeg']"
      ]
     },
     "execution_count": 25,
     "metadata": {},
     "output_type": "execute_result"
    }
   ],
   "source": [
    "images"
   ]
  },
  {
   "cell_type": "markdown",
   "metadata": {},
   "source": [
    "Problem: Soooo many images.\n",
    "    \n",
    "## Step 4: Get first image after the h1 tag (should be the featured image)"
   ]
  },
  {
   "cell_type": "code",
   "execution_count": 29,
   "metadata": {},
   "outputs": [
    {
     "name": "stdout",
     "output_type": "stream",
     "text": [
      "<h1 class=\"graf graf--h3 graf--leading graf--title\" id=\"8b87\" name=\"8b87\">Obscure PSA of the day: Use Conda to correctly install Python GDAL on your Mac</h1>\n",
      "https://cdn-images-1.medium.com/max/1600/1*m4cnTYJWM7Rmpsju8dSHmQ.jpeg\n"
     ]
    }
   ],
   "source": [
    "soup_h1 = soup.find('h1') # find H1 tag\n",
    "# soup_imgs = soup_h1.find_all_next('img').get('src')\n",
    "soup_img = soup_h1.find_next('img').get('src')\n",
    "print ( soup_h1 )\n",
    "# print (soup_imgs)\n",
    "print (soup_img)"
   ]
  },
  {
   "cell_type": "code",
   "execution_count": null,
   "metadata": {},
   "outputs": [],
   "source": []
  }
 ],
 "metadata": {
  "kernelspec": {
   "display_name": "Python [conda env:pawel]",
   "language": "python",
   "name": "conda-env-pawel-py"
  },
  "language_info": {
   "codemirror_mode": {
    "name": "ipython",
    "version": 3
   },
   "file_extension": ".py",
   "mimetype": "text/x-python",
   "name": "python",
   "nbconvert_exporter": "python",
   "pygments_lexer": "ipython3",
   "version": "3.6.6"
  }
 },
 "nbformat": 4,
 "nbformat_minor": 2
}
